{
 "cells": [
  {
   "cell_type": "code",
   "execution_count": 1,
   "id": "00092425-7d74-4970-b91c-6af582b6caaa",
   "metadata": {},
   "outputs": [],
   "source": [
    "import numpy as np\n",
    "import pandas as pd\n",
    "import matplotlib.pyplot as plt\n",
    "import seaborn as sns"
   ]
  },
  {
   "cell_type": "code",
   "execution_count": 2,
   "id": "e262e537-c07b-41ca-bd2c-8d5376086994",
   "metadata": {},
   "outputs": [],
   "source": [
    "df=pd.read_csv(r\"C:\\Users\\razan\\Downloads\\customer_orders.csv\")"
   ]
  },
  {
   "cell_type": "code",
   "execution_count": 3,
   "id": "a51045e5-eaa2-4d73-a422-38833e3ecf20",
   "metadata": {},
   "outputs": [
    {
     "data": {
      "text/html": [
       "<div>\n",
       "<style scoped>\n",
       "    .dataframe tbody tr th:only-of-type {\n",
       "        vertical-align: middle;\n",
       "    }\n",
       "\n",
       "    .dataframe tbody tr th {\n",
       "        vertical-align: top;\n",
       "    }\n",
       "\n",
       "    .dataframe thead th {\n",
       "        text-align: right;\n",
       "    }\n",
       "</style>\n",
       "<table border=\"1\" class=\"dataframe\">\n",
       "  <thead>\n",
       "    <tr style=\"text-align: right;\">\n",
       "      <th></th>\n",
       "      <th>CustomerID</th>\n",
       "      <th>Name</th>\n",
       "      <th>Age</th>\n",
       "      <th>Gender</th>\n",
       "      <th>City</th>\n",
       "      <th>OrderDate</th>\n",
       "      <th>Product</th>\n",
       "      <th>Quantity</th>\n",
       "      <th>Price</th>\n",
       "      <th>TotalAmount</th>\n",
       "      <th>Feedback</th>\n",
       "      <th>Membership</th>\n",
       "    </tr>\n",
       "  </thead>\n",
       "  <tbody>\n",
       "    <tr>\n",
       "      <th>0</th>\n",
       "      <td>1001</td>\n",
       "      <td>Jane Doe</td>\n",
       "      <td>28.0</td>\n",
       "      <td>M</td>\n",
       "      <td>Mumbai</td>\n",
       "      <td>2023-10-17</td>\n",
       "      <td>NaN</td>\n",
       "      <td>2</td>\n",
       "      <td>1200.0</td>\n",
       "      <td>NaN</td>\n",
       "      <td>Excellent</td>\n",
       "      <td>Platinum</td>\n",
       "    </tr>\n",
       "    <tr>\n",
       "      <th>1</th>\n",
       "      <td>1002</td>\n",
       "      <td>Alex Jones</td>\n",
       "      <td>NaN</td>\n",
       "      <td>NaN</td>\n",
       "      <td>Mumbai</td>\n",
       "      <td>2023-10-30</td>\n",
       "      <td>Tablet</td>\n",
       "      <td>1</td>\n",
       "      <td>1200.0</td>\n",
       "      <td>NaN</td>\n",
       "      <td>NaN</td>\n",
       "      <td>Platinum</td>\n",
       "    </tr>\n",
       "    <tr>\n",
       "      <th>2</th>\n",
       "      <td>1003</td>\n",
       "      <td>Sara O'Hara</td>\n",
       "      <td>35.0</td>\n",
       "      <td>Male</td>\n",
       "      <td>Bangalore</td>\n",
       "      <td>2023-10-12</td>\n",
       "      <td>Mouse</td>\n",
       "      <td>1</td>\n",
       "      <td>750.0</td>\n",
       "      <td>NaN</td>\n",
       "      <td>Excellent</td>\n",
       "      <td>NaN</td>\n",
       "    </tr>\n",
       "    <tr>\n",
       "      <th>3</th>\n",
       "      <td>1004</td>\n",
       "      <td>Jane Verma</td>\n",
       "      <td>30.0</td>\n",
       "      <td>Male</td>\n",
       "      <td>Bangalore</td>\n",
       "      <td>2023-10-24</td>\n",
       "      <td>Headphones</td>\n",
       "      <td>1</td>\n",
       "      <td>1000.0</td>\n",
       "      <td>NaN</td>\n",
       "      <td>NaN</td>\n",
       "      <td>silver</td>\n",
       "    </tr>\n",
       "    <tr>\n",
       "      <th>4</th>\n",
       "      <td>1005</td>\n",
       "      <td>Jane Sharma</td>\n",
       "      <td>25.0</td>\n",
       "      <td>Male</td>\n",
       "      <td>Pune</td>\n",
       "      <td>2023-10-28</td>\n",
       "      <td>laptop</td>\n",
       "      <td>2</td>\n",
       "      <td>1000.0</td>\n",
       "      <td>NaN</td>\n",
       "      <td>NaN</td>\n",
       "      <td>Silver</td>\n",
       "    </tr>\n",
       "    <tr>\n",
       "      <th>...</th>\n",
       "      <td>...</td>\n",
       "      <td>...</td>\n",
       "      <td>...</td>\n",
       "      <td>...</td>\n",
       "      <td>...</td>\n",
       "      <td>...</td>\n",
       "      <td>...</td>\n",
       "      <td>...</td>\n",
       "      <td>...</td>\n",
       "      <td>...</td>\n",
       "      <td>...</td>\n",
       "      <td>...</td>\n",
       "    </tr>\n",
       "    <tr>\n",
       "      <th>505</th>\n",
       "      <td>1337</td>\n",
       "      <td>Rohit Singh</td>\n",
       "      <td>40.0</td>\n",
       "      <td>f</td>\n",
       "      <td>Pune</td>\n",
       "      <td>2023-10-01</td>\n",
       "      <td>NaN</td>\n",
       "      <td>2</td>\n",
       "      <td>1000.0</td>\n",
       "      <td>NaN</td>\n",
       "      <td>Average</td>\n",
       "      <td>silver</td>\n",
       "    </tr>\n",
       "    <tr>\n",
       "      <th>506</th>\n",
       "      <td>1500</td>\n",
       "      <td>Alex Doe</td>\n",
       "      <td>NaN</td>\n",
       "      <td>NaN</td>\n",
       "      <td>Mumbai</td>\n",
       "      <td>2023-10-12</td>\n",
       "      <td>mobile</td>\n",
       "      <td>two</td>\n",
       "      <td>1000.0</td>\n",
       "      <td>NaN</td>\n",
       "      <td>Excellent</td>\n",
       "      <td>Silver</td>\n",
       "    </tr>\n",
       "    <tr>\n",
       "      <th>507</th>\n",
       "      <td>1374</td>\n",
       "      <td>John Smith</td>\n",
       "      <td>35.0</td>\n",
       "      <td>FEMALE</td>\n",
       "      <td>Mumbai</td>\n",
       "      <td>2023-10-05</td>\n",
       "      <td>Mobile</td>\n",
       "      <td>2</td>\n",
       "      <td>1200.0</td>\n",
       "      <td>NaN</td>\n",
       "      <td>Average</td>\n",
       "      <td>Platinum</td>\n",
       "    </tr>\n",
       "    <tr>\n",
       "      <th>508</th>\n",
       "      <td>1324</td>\n",
       "      <td>John Jones</td>\n",
       "      <td>28.0</td>\n",
       "      <td>M</td>\n",
       "      <td>new york</td>\n",
       "      <td>2023-10-16</td>\n",
       "      <td>Headphones</td>\n",
       "      <td>two</td>\n",
       "      <td>NaN</td>\n",
       "      <td>NaN</td>\n",
       "      <td>NaN</td>\n",
       "      <td>gold</td>\n",
       "    </tr>\n",
       "    <tr>\n",
       "      <th>509</th>\n",
       "      <td>1433</td>\n",
       "      <td>Rani Smith</td>\n",
       "      <td>35.0</td>\n",
       "      <td>NaN</td>\n",
       "      <td>delhi</td>\n",
       "      <td>2023-10-30</td>\n",
       "      <td>Laptop</td>\n",
       "      <td>two</td>\n",
       "      <td>1200.0</td>\n",
       "      <td>NaN</td>\n",
       "      <td>Excellent</td>\n",
       "      <td>silver</td>\n",
       "    </tr>\n",
       "  </tbody>\n",
       "</table>\n",
       "<p>510 rows × 12 columns</p>\n",
       "</div>"
      ],
      "text/plain": [
       "     CustomerID         Name   Age  Gender       City   OrderDate     Product  \\\n",
       "0          1001     Jane Doe  28.0       M     Mumbai  2023-10-17         NaN   \n",
       "1          1002   Alex Jones   NaN     NaN     Mumbai  2023-10-30      Tablet   \n",
       "2          1003  Sara O'Hara  35.0    Male  Bangalore  2023-10-12       Mouse   \n",
       "3          1004   Jane Verma  30.0    Male  Bangalore  2023-10-24  Headphones   \n",
       "4          1005  Jane Sharma  25.0    Male       Pune  2023-10-28      laptop   \n",
       "..          ...          ...   ...     ...        ...         ...         ...   \n",
       "505        1337  Rohit Singh  40.0       f       Pune  2023-10-01         NaN   \n",
       "506        1500     Alex Doe   NaN     NaN     Mumbai  2023-10-12      mobile   \n",
       "507        1374   John Smith  35.0  FEMALE     Mumbai  2023-10-05      Mobile   \n",
       "508        1324   John Jones  28.0       M   new york  2023-10-16  Headphones   \n",
       "509        1433   Rani Smith  35.0     NaN      delhi  2023-10-30      Laptop   \n",
       "\n",
       "    Quantity   Price  TotalAmount   Feedback Membership  \n",
       "0          2  1200.0          NaN  Excellent   Platinum  \n",
       "1          1  1200.0          NaN        NaN   Platinum  \n",
       "2          1   750.0          NaN  Excellent        NaN  \n",
       "3          1  1000.0          NaN        NaN     silver  \n",
       "4          2  1000.0          NaN        NaN     Silver  \n",
       "..       ...     ...          ...        ...        ...  \n",
       "505        2  1000.0          NaN    Average     silver  \n",
       "506      two  1000.0          NaN  Excellent     Silver  \n",
       "507        2  1200.0          NaN    Average   Platinum  \n",
       "508      two     NaN          NaN        NaN       gold  \n",
       "509      two  1200.0          NaN  Excellent     silver  \n",
       "\n",
       "[510 rows x 12 columns]"
      ]
     },
     "execution_count": 3,
     "metadata": {},
     "output_type": "execute_result"
    }
   ],
   "source": [
    "df"
   ]
  },
  {
   "cell_type": "markdown",
   "id": "7cacee22-9545-4cf3-97bd-bb2514f6e8d8",
   "metadata": {},
   "source": [
    "# Basic Overview"
   ]
  },
  {
   "cell_type": "code",
   "execution_count": 5,
   "id": "bdbc2096-3006-4b67-815b-a0818649f784",
   "metadata": {},
   "outputs": [
    {
     "data": {
      "text/html": [
       "<div>\n",
       "<style scoped>\n",
       "    .dataframe tbody tr th:only-of-type {\n",
       "        vertical-align: middle;\n",
       "    }\n",
       "\n",
       "    .dataframe tbody tr th {\n",
       "        vertical-align: top;\n",
       "    }\n",
       "\n",
       "    .dataframe thead th {\n",
       "        text-align: right;\n",
       "    }\n",
       "</style>\n",
       "<table border=\"1\" class=\"dataframe\">\n",
       "  <thead>\n",
       "    <tr style=\"text-align: right;\">\n",
       "      <th></th>\n",
       "      <th>CustomerID</th>\n",
       "      <th>Age</th>\n",
       "      <th>Price</th>\n",
       "      <th>TotalAmount</th>\n",
       "    </tr>\n",
       "  </thead>\n",
       "  <tbody>\n",
       "    <tr>\n",
       "      <th>count</th>\n",
       "      <td>510.000000</td>\n",
       "      <td>453.000000</td>\n",
       "      <td>407.000000</td>\n",
       "      <td>0.0</td>\n",
       "    </tr>\n",
       "    <tr>\n",
       "      <th>mean</th>\n",
       "      <td>1251.974510</td>\n",
       "      <td>30.624724</td>\n",
       "      <td>873.464373</td>\n",
       "      <td>NaN</td>\n",
       "    </tr>\n",
       "    <tr>\n",
       "      <th>std</th>\n",
       "      <td>144.400329</td>\n",
       "      <td>4.917956</td>\n",
       "      <td>267.300016</td>\n",
       "      <td>NaN</td>\n",
       "    </tr>\n",
       "    <tr>\n",
       "      <th>min</th>\n",
       "      <td>1001.000000</td>\n",
       "      <td>25.000000</td>\n",
       "      <td>500.000000</td>\n",
       "      <td>NaN</td>\n",
       "    </tr>\n",
       "    <tr>\n",
       "      <th>25%</th>\n",
       "      <td>1127.250000</td>\n",
       "      <td>25.000000</td>\n",
       "      <td>625.000000</td>\n",
       "      <td>NaN</td>\n",
       "    </tr>\n",
       "    <tr>\n",
       "      <th>50%</th>\n",
       "      <td>1252.500000</td>\n",
       "      <td>30.000000</td>\n",
       "      <td>1000.000000</td>\n",
       "      <td>NaN</td>\n",
       "    </tr>\n",
       "    <tr>\n",
       "      <th>75%</th>\n",
       "      <td>1375.750000</td>\n",
       "      <td>35.000000</td>\n",
       "      <td>1200.000000</td>\n",
       "      <td>NaN</td>\n",
       "    </tr>\n",
       "    <tr>\n",
       "      <th>max</th>\n",
       "      <td>1500.000000</td>\n",
       "      <td>40.000000</td>\n",
       "      <td>1200.000000</td>\n",
       "      <td>NaN</td>\n",
       "    </tr>\n",
       "  </tbody>\n",
       "</table>\n",
       "</div>"
      ],
      "text/plain": [
       "        CustomerID         Age        Price  TotalAmount\n",
       "count   510.000000  453.000000   407.000000          0.0\n",
       "mean   1251.974510   30.624724   873.464373          NaN\n",
       "std     144.400329    4.917956   267.300016          NaN\n",
       "min    1001.000000   25.000000   500.000000          NaN\n",
       "25%    1127.250000   25.000000   625.000000          NaN\n",
       "50%    1252.500000   30.000000  1000.000000          NaN\n",
       "75%    1375.750000   35.000000  1200.000000          NaN\n",
       "max    1500.000000   40.000000  1200.000000          NaN"
      ]
     },
     "execution_count": 5,
     "metadata": {},
     "output_type": "execute_result"
    }
   ],
   "source": [
    "df.describe()"
   ]
  },
  {
   "cell_type": "code",
   "execution_count": 6,
   "id": "2f19ee9e-4abf-484d-af12-99fef9aa8c42",
   "metadata": {},
   "outputs": [
    {
     "data": {
      "text/plain": [
       "(510, 12)"
      ]
     },
     "execution_count": 6,
     "metadata": {},
     "output_type": "execute_result"
    }
   ],
   "source": [
    "df.shape"
   ]
  },
  {
   "cell_type": "code",
   "execution_count": 7,
   "id": "82083ebb-0e76-4f1e-8b4e-7685013d2238",
   "metadata": {},
   "outputs": [
    {
     "name": "stdout",
     "output_type": "stream",
     "text": [
      "<class 'pandas.core.frame.DataFrame'>\n",
      "RangeIndex: 510 entries, 0 to 509\n",
      "Data columns (total 12 columns):\n",
      " #   Column       Non-Null Count  Dtype  \n",
      "---  ------       --------------  -----  \n",
      " 0   CustomerID   510 non-null    int64  \n",
      " 1   Name         510 non-null    object \n",
      " 2   Age          453 non-null    float64\n",
      " 3   Gender       434 non-null    object \n",
      " 4   City         510 non-null    object \n",
      " 5   OrderDate    510 non-null    object \n",
      " 6   Product      461 non-null    object \n",
      " 7   Quantity     468 non-null    object \n",
      " 8   Price        407 non-null    float64\n",
      " 9   TotalAmount  0 non-null      float64\n",
      " 10  Feedback     413 non-null    object \n",
      " 11  Membership   379 non-null    object \n",
      "dtypes: float64(3), int64(1), object(8)\n",
      "memory usage: 47.9+ KB\n"
     ]
    }
   ],
   "source": [
    "df.info()"
   ]
  },
  {
   "cell_type": "markdown",
   "id": "397ce874-06d2-4df7-ab8b-bc73644dc42c",
   "metadata": {},
   "source": [
    "# Data Cleaning"
   ]
  },
  {
   "cell_type": "code",
   "execution_count": 9,
   "id": "aae82bee-193e-41e7-8bee-c286cba156bd",
   "metadata": {},
   "outputs": [],
   "source": [
    "df.drop_duplicates(inplace=True)"
   ]
  },
  {
   "cell_type": "code",
   "execution_count": 10,
   "id": "cf8c4347-3467-417c-90b1-94e10076f163",
   "metadata": {},
   "outputs": [],
   "source": [
    "df['Age'] = df['Age'].fillna(df['Age'].mean())"
   ]
  },
  {
   "cell_type": "code",
   "execution_count": 11,
   "id": "eada2fd7-54c4-41b7-8887-0f3c0bc3748f",
   "metadata": {},
   "outputs": [
    {
     "data": {
      "text/plain": [
       "array(['M', nan, 'Male', 'f', 'FEMALE', 'male', 'Female'], dtype=object)"
      ]
     },
     "execution_count": 11,
     "metadata": {},
     "output_type": "execute_result"
    }
   ],
   "source": [
    "df['Gender'].unique()"
   ]
  },
  {
   "cell_type": "code",
   "execution_count": 12,
   "id": "f8eb239d-da7b-4812-8760-35b760d75fa8",
   "metadata": {},
   "outputs": [],
   "source": [
    "df['Gender'] = df['Gender'].replace({\n",
    "    'female': 'Female', 'f': 'Female','FEMALE':'Female',\n",
    "    'male': 'Male', 'M': 'Male'})"
   ]
  },
  {
   "cell_type": "code",
   "execution_count": 13,
   "id": "d71df98b-fd43-4b01-951d-4c5c18dd25e0",
   "metadata": {},
   "outputs": [
    {
     "data": {
      "text/plain": [
       "array(['2', '1', 'two', '3', nan], dtype=object)"
      ]
     },
     "execution_count": 13,
     "metadata": {},
     "output_type": "execute_result"
    }
   ],
   "source": [
    "df['Quantity'].unique()"
   ]
  },
  {
   "cell_type": "code",
   "execution_count": 14,
   "id": "c444f8dd-de65-4d69-b020-2d6007cfb643",
   "metadata": {},
   "outputs": [],
   "source": [
    "df['Quantity'] = df['Quantity'].replace(\"two\", 2)"
   ]
  },
  {
   "cell_type": "code",
   "execution_count": 15,
   "id": "d546dc79-3de4-40e9-87fd-e9bd84cb8e6e",
   "metadata": {},
   "outputs": [],
   "source": [
    "df['Quantity'] = df['Quantity'].fillna(df['Quantity'].mode()[0]) "
   ]
  },
  {
   "cell_type": "code",
   "execution_count": 16,
   "id": "c2cea9b4-0c54-434b-91d0-4246a8c02859",
   "metadata": {},
   "outputs": [],
   "source": [
    "df['Quantity'] = pd.to_numeric(df['Quantity'], errors='coerce')"
   ]
  },
  {
   "cell_type": "code",
   "execution_count": 17,
   "id": "162f5f1d-21da-4d7c-9cef-61fcaacb1e83",
   "metadata": {},
   "outputs": [],
   "source": [
    "df['TotalAmount'] = df['TotalAmount'].fillna(df['Price'] * df['Quantity'])"
   ]
  },
  {
   "cell_type": "code",
   "execution_count": 18,
   "id": "50171aee-25f6-4584-9ded-21e329f52080",
   "metadata": {},
   "outputs": [],
   "source": [
    "df['Membership'] = df['Membership'].fillna(\"None\")"
   ]
  },
  {
   "cell_type": "code",
   "execution_count": 19,
   "id": "1befa7e6-1fed-4a88-af2a-7a3de6427073",
   "metadata": {},
   "outputs": [
    {
     "data": {
      "text/plain": [
       "array([nan, 'Tablet', 'Mouse', 'Headphones', 'laptop', 'Mobile',\n",
       "       'Keyboard', 'mobile', 'Laptop', 'Charger'], dtype=object)"
      ]
     },
     "execution_count": 19,
     "metadata": {},
     "output_type": "execute_result"
    }
   ],
   "source": [
    "df['Product'].unique()"
   ]
  },
  {
   "cell_type": "code",
   "execution_count": 20,
   "id": "7a418fee-028d-4190-8d92-9640f230d750",
   "metadata": {},
   "outputs": [],
   "source": [
    "df['Product']=df['Product'].replace({'laptop':'Laptop','mobile':'Mobile'})"
   ]
  },
  {
   "cell_type": "code",
   "execution_count": 21,
   "id": "8f7fcdba-7ad9-420e-a447-c32ea4065c03",
   "metadata": {},
   "outputs": [
    {
     "data": {
      "text/plain": [
       "array(['Mumbai', 'Bangalore', 'Pune', 'delhi', 'Kolkata', 'new york',\n",
       "       'Delhi', 'bangalore', 'New York'], dtype=object)"
      ]
     },
     "execution_count": 21,
     "metadata": {},
     "output_type": "execute_result"
    }
   ],
   "source": [
    "df['City'].unique()"
   ]
  },
  {
   "cell_type": "code",
   "execution_count": 22,
   "id": "c3327a43-1045-41de-8a63-cf3a70e2761d",
   "metadata": {},
   "outputs": [
    {
     "data": {
      "text/plain": [
       "array(['Platinum', 'None', 'silver', 'Silver', 'gold', 'Gold'],\n",
       "      dtype=object)"
      ]
     },
     "execution_count": 22,
     "metadata": {},
     "output_type": "execute_result"
    }
   ],
   "source": [
    "df['Membership'].unique()"
   ]
  },
  {
   "cell_type": "code",
   "execution_count": 23,
   "id": "9893b4cb-bbf8-4548-bb10-3860fcd692f8",
   "metadata": {},
   "outputs": [],
   "source": [
    "df['Membership']=df['Membership'].str.title()"
   ]
  },
  {
   "cell_type": "code",
   "execution_count": 24,
   "id": "7e2f1958-32e6-464e-bd2e-32a69d9901c3",
   "metadata": {},
   "outputs": [],
   "source": [
    "df['City']=df['City'].replace({'bangalore':'Bangalore','delhi':'Delhi','new york':'New York'})"
   ]
  },
  {
   "cell_type": "markdown",
   "id": "96ae2cdf-d633-4dcc-a6e5-bff6695ff561",
   "metadata": {},
   "source": [
    "# Data Analysis"
   ]
  },
  {
   "cell_type": "code",
   "execution_count": 26,
   "id": "da73bb0a-b79c-482b-840f-9cc314ac469e",
   "metadata": {},
   "outputs": [
    {
     "data": {
      "text/plain": [
       "Product\n",
       "Laptop        117050.0\n",
       "Mobile         98450.0\n",
       "Mouse          66800.0\n",
       "Charger        63450.0\n",
       "Keyboard       59200.0\n",
       "Tablet         57350.0\n",
       "Headphones     53200.0\n",
       "Name: TotalAmount, dtype: float64"
      ]
     },
     "execution_count": 26,
     "metadata": {},
     "output_type": "execute_result"
    }
   ],
   "source": [
    "# Total sales by product\n",
    "product_sales = df.groupby(\"Product\")[\"TotalAmount\"].sum().sort_values(ascending=False)\n",
    "product_sales"
   ]
  },
  {
   "cell_type": "code",
   "execution_count": 27,
   "id": "6f2b7ea9-de45-498c-b121-14bbe5f1496a",
   "metadata": {},
   "outputs": [
    {
     "data": {
      "text/plain": [
       "City\n",
       "Delhi        120\n",
       "New York     117\n",
       "Bangalore    102\n",
       "Mumbai        57\n",
       "Pune          54\n",
       "Kolkata       50\n",
       "Name: count, dtype: int64"
      ]
     },
     "execution_count": 27,
     "metadata": {},
     "output_type": "execute_result"
    }
   ],
   "source": [
    "# Orders by city\n",
    "city_orders = df[\"City\"].value_counts()\n",
    "city_orders"
   ]
  },
  {
   "cell_type": "code",
   "execution_count": 28,
   "id": "6dee48f5-500b-467f-8f10-ab2b00f64849",
   "metadata": {},
   "outputs": [
    {
     "data": {
      "text/plain": [
       "Membership\n",
       "Gold        148\n",
       "Silver      141\n",
       "None        131\n",
       "Platinum     80\n",
       "Name: count, dtype: int64"
      ]
     },
     "execution_count": 28,
     "metadata": {},
     "output_type": "execute_result"
    }
   ],
   "source": [
    "# Membership counts\n",
    "membership_counts = df[\"Membership\"].value_counts()\n",
    "membership_counts"
   ]
  },
  {
   "cell_type": "code",
   "execution_count": 29,
   "id": "52dc8d58-8a20-4d4e-ab3f-4bf4490dde6d",
   "metadata": {},
   "outputs": [
    {
     "data": {
      "image/png": "[encoded data removed]",
      "text/plain": [
       "<Figure size 1000x500 with 1 Axes>"
      ]
     },
     "metadata": {},
     "output_type": "display_data"
    }
   ],
   "source": [
    "# 1. Product-wise Sales\n",
    "plt.figure(figsize=(10,5))\n",
    "product_sales.plot(kind='bar', color='skyblue')\n",
    "plt.title(\"Product-wise Total Sales\")\n",
    "plt.ylabel(\"Sales (₹)\")\n",
    "plt.xticks(rotation=45)\n",
    "plt.tight_layout()\n",
    "plt.show()"
   ]
  },
  {
   "cell_type": "code",
   "execution_count": 30,
   "id": "8821040a-97f5-4540-b22c-b2eeed8d78ea",
   "metadata": {},
   "outputs": [
    {
     "data": {
      "image/png": "[encoded data removed]",
      "text/plain": [
       "<Figure size 800x400 with 1 Axes>"
      ]
     },
     "metadata": {},
     "output_type": "display_data"
    }
   ],
   "source": [
    "# 2. Orders by City\n",
    "plt.figure(figsize=(8,4))\n",
    "city_orders.plot(kind='bar', color='lightgreen')\n",
    "plt.title(\"Orders by City\")\n",
    "plt.ylabel(\"No. of Orders\")\n",
    "plt.xticks(rotation=45)\n",
    "plt.tight_layout()\n",
    "plt.show()"
   ]
  },
  {
   "cell_type": "code",
   "execution_count": 31,
   "id": "a6dca018-21fe-4bbb-8ed1-a51aeb1c1fc6",
   "metadata": {},
   "outputs": [
    {
     "data": {
      "image/png": "[encoded data removed]",
      "text/plain": [
       "<Figure size 600x600 with 1 Axes>"
      ]
     },
     "metadata": {},
     "output_type": "display_data"
    }
   ],
   "source": [
    "# 3. Membership Pie Chart\n",
    "plt.figure(figsize=(6,6))\n",
    "membership_counts.plot(kind='pie', autopct='%1.1f%%', startangle=90)\n",
    "plt.title(\"Membership Distribution\")\n",
    "plt.ylabel(\"\")\n",
    "plt.tight_layout()\n",
    "plt.show()"
   ]
  },
  {
   "cell_type": "code",
   "execution_count": 32,
   "id": "81cfba0f-9474-4291-b0eb-dcc4c557a39a",
   "metadata": {},
   "outputs": [
    {
     "data": {
      "image/png": "[encoded data removed]",
      "text/plain": [
       "<Figure size 800x400 with 1 Axes>"
      ]
     },
     "metadata": {},
     "output_type": "display_data"
    }
   ],
   "source": [
    "# 4. Age Distribution\n",
    "plt.figure(figsize=(8,4))\n",
    "sns.histplot(df[\"Age\"], bins=10, kde=True, color='orange')\n",
    "plt.title(\"Customer Age Distribution\")\n",
    "plt.xlabel(\"Age\")\n",
    "plt.tight_layout()\n",
    "plt.show()"
   ]
  },
  {
   "cell_type": "markdown",
   "id": "1ce16fc9-9ea9-4cad-aa9c-c504f52ee45f",
   "metadata": {},
   "source": [
    "# Recommendation"
   ]
  },
  {
   "cell_type": "markdown",
   "id": "34f88612-9b07-4912-bc16-10a0ef279554",
   "metadata": {},
   "source": [
    "## ✅ 📊 Product-wise Sales Recommendations"
   ]
  },
  {
   "cell_type": "markdown",
   "id": "ef4ff2fe-e719-4826-8f30-41a30d456086",
   "metadata": {},
   "source": [
    "🔝 Top-Selling Products:\n",
    "Laptop – ₹117,050\n",
    "\n",
    "Mobile – ₹98,450\n",
    "\n",
    "👉 Recommendations:\n",
    "\n",
    "These are your high-ticket items. Run combo offers, EMI plans, or extended warranty schemes on these products.\n",
    "\n",
    "Bundle accessories (like Mouse, Charger, Headphones) with these to increase average order value.\n",
    "\n",
    "Create personalized product suggestions like “Frequently Bought Together.”\n",
    "\n"
   ]
  },
  {
   "cell_type": "markdown",
   "id": "14f1034d-e78f-45dc-8cf5-58373c1a9297",
   "metadata": {},
   "source": [
    "## 📉 Medium to Low-Selling Products:"
   ]
  },
  {
   "cell_type": "markdown",
   "id": "d5386f30-56ef-436a-8335-2d7c54a8e894",
   "metadata": {},
   "source": [
    "Products like Tablet, Keyboard, and Headphones have relatively lower sales.\n",
    "\n",
    "👉 Recommendations:\n",
    "\n",
    "Launch limited-time discounts, bundle deals, or Buy 1 Get 1 offers to push these items.\n",
    "\n",
    "Highlight these products on the homepage or top banners of the website/app."
   ]
  },
  {
   "cell_type": "markdown",
   "id": "61384d87-d465-48f2-ab78-ad3ae7a5da22",
   "metadata": {},
   "source": [
    "## ✅ 📍 City-wise Orders Recommendations"
   ]
  },
  {
   "cell_type": "markdown",
   "id": "7091e408-303e-471e-9968-39d0d943fd42",
   "metadata": {},
   "source": [
    "🏙️ Top Performing Cities:\n",
    "Delhi – 120 orders\n",
    "\n",
    "New York – 117 orders\n",
    "\n",
    "👉 Recommendations:\n",
    "\n",
    "Offer fast delivery, exclusive city-based coupons, or VIP service for customers in these cities.\n",
    "\n",
    "Run geo-targeted ads or use local influencers to maintain dominance in these markets."
   ]
  },
  {
   "cell_type": "markdown",
   "id": "efad81f5-478a-4781-8852-86799cb615ff",
   "metadata": {},
   "source": [
    "## 📉 Cities with Lower Orders:"
   ]
  },
  {
   "cell_type": "markdown",
   "id": "2c75781a-e625-493a-8c7d-cd351a9d34e1",
   "metadata": {},
   "source": [
    "Mumbai (57), Pune (54), Kolkata (50) have noticeably fewer orders.\n",
    "\n",
    "👉 Recommendations:\n",
    "\n",
    "Launch city-specific campaigns with first-order discounts (e.g., ₹200 off).\n",
    "\n",
    "Use regional language ads and localized offers to increase engagement."
   ]
  },
  {
   "cell_type": "markdown",
   "id": "a20d4323-8579-48d6-aea4-ba161c20764a",
   "metadata": {},
   "source": [
    "## 💳 Membership-Based Recommendations"
   ]
  },
  {
   "cell_type": "markdown",
   "id": "5d18d5a9-e5eb-455b-b093-62d65a4ba41d",
   "metadata": {},
   "source": [
    "A large number of users (131) have no membership, so targeted upgrade offers like ₹200 off or free delivery should be promoted. Silver members (141) can be upsold to Gold through limited-time deals and exclusive benefits. Platinum has the lowest count (80), so it needs better visibility with VIP perks like early access and loyalty rewards. A structured tier-based loyalty program can help drive user engagement and membership upgrades."
   ]
  },
  {
   "cell_type": "code",
   "execution_count": null,
   "id": "b417cea5-0e62-44c2-b782-ca360d1cbc20",
   "metadata": {},
   "outputs": [],
   "source": []
  }
 ],
 "metadata": {
  "kernelspec": {
   "display_name": "Python 3 (ipykernel)",
   "language": "python",
   "name": "python3"
  },
  "language_info": {
   "codemirror_mode": {
    "name": "ipython",
    "version": 3
   },
   "file_extension": ".py",
   "mimetype": "text/x-python",
   "name": "python",
   "nbconvert_exporter": "python",
   "pygments_lexer": "ipython3",
   "version": "3.12.4"
  }
 },
 "nbformat": 4,
 "nbformat_minor": 5
}
